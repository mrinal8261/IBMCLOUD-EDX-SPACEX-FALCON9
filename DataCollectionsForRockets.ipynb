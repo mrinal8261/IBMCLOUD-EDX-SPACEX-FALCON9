{
    "cells": [
        {
            "metadata": {},
            "cell_type": "code",
            "source": "# All IMPORTS\nimport requests as req\nimport json as js\nimport pandas as pd\nimport json\n\n#CONNECTION URL AND HEADERS FOR REST API CALL\napi_url = \"https://api.spacexdata.com/v4/rockets\"\nheaders =  {\"Content-Type\":\"application/json\"}\n\n\n# MAKE A RESTAPI CALL -- HTTP REQUEST -- GET METHOD\n# TRY EXCEPT BLOCK TO CATCH ANY EXCEPTIONS\ntry:\n    responseData = req.get(api_url,headers)    \n    responseCode = responseData.status_code\nexcept req.exceptions.ConnectionError as err:\n    print(\"Either DNS failure or refused Connection or Error Connecting\",err)\nexcept req.exceptions.HttpError as err:\n    print(err,\" : Http Error\")\n# TIMEOUT NEEDS TO EITHER REPEAT OR MAKE RETRY IN A LOOP\nexcept req.exceptions.Timeout as err:\n    print(\"Timeout in Connection\",err)    \n    while(responseData != 200):\n        responseData = req.get(api_url,headers)    \n        responseCode = responseData.status_code    \nexcept req.exceptions.TooManyRedirects as err:\n    print(\"Try Another Url: \",err)\nexcept req.exceptions.RequestExceptions as err:\n    raise SystemExit(err)\nexcept req.exceptions.RequestException as err:\n    print(\"Error: \",err)\n\n#ALLOWING FOR RESPONSE CODE 200 OR SUCCESS\nif responseCode == 200 :\n    print(\"Successfully Connected:\")       \n    # Transform json input to python objects\n    input_dict = json.loads(responseData.text)\n    \n# Filter python objects with list comprehensions\n    output_dict = [x for x in input_dict if x['name'] == 'Falcon 9']\n\n# Transform python object back into json\n    output_json = json.dumps(output_dict)\n\n# Show json\n    data = pd.json_normalize(json.loads(output_json))\n    print(data)\n    \nelif responseCode == 400 :\n    print(\"Bad Request\")\nelse :\n    print(\"Error in Connection\")\n    \n    \n    \n",
            "execution_count": 10,
            "outputs": [
                {
                    "output_type": "stream",
                    "text": "Successfully Connected:\n                                     payload_weights  \\\n0  [{'id': 'leo', 'name': 'Low Earth Orbit', 'kg'...   \n\n                                       flickr_images      name    type  \\\n0  [https://farm1.staticflickr.com/929/2878733830...  Falcon 9  rocket   \n\n   active  stages  boosters  cost_per_launch  success_rate_pct first_flight  \\\n0    True       2         0         50000000                98   2010-06-04   \n\n   ... engines.number engines.type engines.version engines.layout  \\\n0  ...              9       merlin             1D+        octaweb   \n\n  engines.engine_loss_max  engines.propellant_1  engines.propellant_2  \\\n0                       2         liquid oxygen         RP-1 kerosene   \n\n   engines.thrust_to_weight  landing_legs.number  landing_legs.material  \n0                     180.1                    4           carbon fiber  \n\n[1 rows x 56 columns]\n",
                    "name": "stdout"
                }
            ]
        },
        {
            "metadata": {},
            "cell_type": "code",
            "source": "",
            "execution_count": null,
            "outputs": []
        },
        {
            "metadata": {},
            "cell_type": "code",
            "source": "# ",
            "execution_count": null,
            "outputs": []
        }
    ],
    "metadata": {
        "kernelspec": {
            "name": "python3",
            "display_name": "Python 3.10",
            "language": "python"
        },
        "language_info": {
            "name": "python",
            "version": "3.10.9",
            "mimetype": "text/x-python",
            "codemirror_mode": {
                "name": "ipython",
                "version": 3
            },
            "pygments_lexer": "ipython3",
            "nbconvert_exporter": "python",
            "file_extension": ".py"
        }
    },
    "nbformat": 4,
    "nbformat_minor": 1
}