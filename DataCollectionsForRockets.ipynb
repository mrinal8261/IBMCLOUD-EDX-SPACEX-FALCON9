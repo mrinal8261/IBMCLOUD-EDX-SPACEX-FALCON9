{
    "cells": [
        {
            "metadata": {},
            "cell_type": "code",
            "source": "# All IMPORTS\nimport requests as req\nimport json as js\nimport pandas as pd\n\n#CONNECTION URL AND HEADERS FOR REST API CALL\napi_url = \"https://api.spacexdata.com/v4/rockets\"\nheaders =  {\"Content-Type\":\"application/json\"}\n\n\n# MAKE A RESTAPI CALL -- HTTP REQUEST -- GET METHOD\n# TRY EXCEPT BLOCK TO CATCH ANY EXCEPTIONS\ntry:\n    responseData = req.get(api_url,headers)    \n    responseCode = responseData.status_code\nexcept req.exceptions.ConnectionError as err:\n    print(\"Either DNS failure or refused Connection or Error Connecting\",err)\nexcept req.exceptions.HttpError as err:\n    print(err,\" : Http Error\")\n# TIMEOUT NEEDS TO EITHER REPEAT OR MAKE RETRY IN A LOOP\nexcept req.exceptions.Timeout as err:\n    print(\"Timeout in Connection\",err)    \n    while(responseData != 200):\n        responseData = req.get(api_url,headers)    \n        responseCode = responseData.status_code    \nexcept req.exceptions.TooManyRedirects as err:\n    print(\"Try Another Url: \",err)\nexcept req.exceptions.RequestExceptions as err:\n    raise SystemExit(err)\nexcept req.exceptions.RequestException as err:\n    print(\"Error: \",err)\n\n#ALLOWING FOR RESPONSE CODE 200 OR SUCCESS\nif responseCode == 200 :\n    print(\"Successfully Connected:\")\n    responseString = responseData.json()\n    #print(responseString)\n    data = pd.json_normalize(responseString)\n    print(data)\nelif responseCode == 400 :\n    print(\"Bad Request\")\nelse :\n    print(\"Error in Connection\")",
            "execution_count": 2,
            "outputs": [
                {
                    "output_type": "stream",
                    "text": "Successfully Connected:\n                                     payload_weights  \\\n0  [{'id': 'leo', 'name': 'Low Earth Orbit', 'kg'...   \n1  [{'id': 'leo', 'name': 'Low Earth Orbit', 'kg'...   \n2  [{'id': 'leo', 'name': 'Low Earth Orbit', 'kg'...   \n3  [{'id': 'leo', 'name': 'Low Earth Orbit', 'kg'...   \n\n                                       flickr_images          name    type  \\\n0  [https://imgur.com/DaCfMsj.jpg, https://imgur....      Falcon 1  rocket   \n1  [https://farm1.staticflickr.com/929/2878733830...      Falcon 9  rocket   \n2  [https://farm5.staticflickr.com/4599/385838292...  Falcon Heavy  rocket   \n3  [https://live.staticflickr.com/65535/489541389...      Starship  rocket   \n\n   active  stages  boosters  cost_per_launch  success_rate_pct first_flight  \\\n0   False       2         0          6700000                40   2006-03-24   \n1    True       2         0         50000000                98   2010-06-04   \n2    True       2         2         90000000               100   2018-02-06   \n3   False       2         0          7000000                 0   2021-12-01   \n\n   ... engines.number engines.type engines.version engines.layout  \\\n0  ...              1       merlin              1C         single   \n1  ...              9       merlin             1D+        octaweb   \n2  ...             27       merlin             1D+        octaweb   \n3  ...             37       raptor                           None   \n\n  engines.engine_loss_max  engines.propellant_1  engines.propellant_2  \\\n0                     0.0         liquid oxygen         RP-1 kerosene   \n1                     2.0         liquid oxygen         RP-1 kerosene   \n2                     6.0         liquid oxygen         RP-1 kerosene   \n3                     NaN         liquid oxygen        liquid methane   \n\n   engines.thrust_to_weight  landing_legs.number  landing_legs.material  \n0                      96.0                    0                   None  \n1                     180.1                    4           carbon fiber  \n2                     180.1                   12           carbon fiber  \n3                     107.0                    6        stainless steel  \n\n[4 rows x 56 columns]\n",
                    "name": "stdout"
                }
            ]
        },
        {
            "metadata": {},
            "cell_type": "code",
            "source": "",
            "execution_count": null,
            "outputs": []
        },
        {
            "metadata": {},
            "cell_type": "code",
            "source": "# ",
            "execution_count": null,
            "outputs": []
        }
    ],
    "metadata": {
        "kernelspec": {
            "name": "python3",
            "display_name": "Python 3.10",
            "language": "python"
        },
        "language_info": {
            "name": "python",
            "version": "3.10.9",
            "mimetype": "text/x-python",
            "codemirror_mode": {
                "name": "ipython",
                "version": 3
            },
            "pygments_lexer": "ipython3",
            "nbconvert_exporter": "python",
            "file_extension": ".py"
        }
    },
    "nbformat": 4,
    "nbformat_minor": 1
}