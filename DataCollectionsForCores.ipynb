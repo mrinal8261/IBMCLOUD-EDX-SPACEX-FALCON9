{
    "cells": [
        {
            "metadata": {},
            "cell_type": "code",
            "source": "# All IMPORTS\nimport requests as req\nimport json as js\nimport pandas as pd\n\n#CONNECTION URL AND HEADERS FOR REST API CALL\napi_url = \"https://api.spacexdata.com/v4/capsules\"\nheaders =  {\"Content-Type\":\"application/json\"}\n\n\n# MAKE A RESTAPI CALL -- HTTP REQUEST -- GET METHOD\n# TRY EXCEPT BLOCK TO CATCH ANY EXCEPTIONS\ntry:\n    responseData = req.get(api_url,headers)    \n    responseCode = responseData.status_code\nexcept req.exceptions.ConnectionError as err:\n    print(\"Either DNS failure or refused Connection or Error Connecting\",err)\nexcept req.exceptions.HttpError as err:\n    print(err,\" : Http Error\")\n# TIMEOUT NEEDS TO EITHER REPEAT OR MAKE RETRY IN A LOOP\nexcept req.exceptions.Timeout as err:\n    print(\"Timeout in Connection\",err)    \n    while(responseData != 200):\n        responseData = req.get(api_url,headers)    \n        responseCode = responseData.status_code    \nexcept req.exceptions.TooManyRedirects as err:\n    print(\"Try Another Url: \",err)\nexcept req.exceptions.RequestExceptions as err:\n    raise SystemExit(err)\nexcept req.exceptions.RequestException as err:\n    print(\"Error: \",err)\n\n#ALLOWING FOR RESPONSE CODE 200 OR SUCCESS\nif responseCode == 200 :\n    print(\"Successfully Connected:\")\n    responseString = responseData.json()\n    #print(responseString)\n    data = pd.json_normalize(responseString)\n    print(data)\nelif responseCode == 400 :\n    print(\"Bad Request\")\nelse :\n    print(\"Error in Connection\")",
            "execution_count": 38,
            "outputs": [
                {
                    "output_type": "stream",
                    "text": "Successfully Connected:\n    reuse_count  water_landings  land_landings  \\\n0             0               1              0   \n1             0               1              0   \n2             0               1              0   \n3             0               1              0   \n4             0               1              0   \n5             2               3              0   \n6             0               1              0   \n7             2               3              0   \n8             0               1              0   \n9             1               2              0   \n10            1               2              0   \n11            2               3              0   \n12            1               2              0   \n13            0               1              0   \n14            0               1              0   \n15            0               0              0   \n16            0               0              0   \n17            0               0              0   \n18            2               2              0   \n19            1               2              0   \n20            0               2              0   \n21            1               2              0   \n22            1               0              0   \n23            0               0              0   \n24            0               0              0   \n\n                                          last_update  \\\n0        Hanging in atrium at SpaceX HQ in Hawthorne    \n1                 On display at KSC Visitor's Center    \n2                         Location and status unknown   \n3                         Location and status unknown   \n4                         Location and status unknown   \n5   As of January 8, 2020: Arrived at Port of LA a...   \n6                         Location and status unknown   \n7   As of August 29, 2019: Arrived at Port of LA a...   \n8         Destroyed on impact after F9 launch failure   \n9                         Location and status unknown   \n10                        Location and status unknown   \n11  As of March 9, 2020: At the ISS during CRS-20 ...   \n12  As of June 3, 2019: Successfully splashed down...   \n13  As of January 28, 2017: In Hawthorne, on displ...   \n14  In Cape Canaveral, FL as of January 19, 2020. ...   \n15  In Hawthorne, CA as of July 24, 2017. Structur...   \n16  Still used for development testing as of 2020 ...   \n17  Destroyed in a test anomaly at LZ-1 on April 2...   \n18  Docked to pressurized mating adapter PMA-3 on ...   \n19  Undergoing refurbishment in a Cape Canaveral P...   \n20  Undergoing refurbishment in a Cape Canaveral P...   \n21                                    C210, Endurance   \n22                                               None   \n23                                               None   \n24                                               None   \n\n                                             launches serial     status  \\\n0                          [5eb87cdeffd86e000604b330]   C101    retired   \n1                          [5eb87cdfffd86e000604b331]   C102    retired   \n2                          [5eb87ce0ffd86e000604b332]   C103    unknown   \n3                          [5eb87ce1ffd86e000604b333]   C104    unknown   \n4                          [5eb87ce4ffd86e000604b337]   C105    unknown   \n5   [5eb87ce7ffd86e000604b33b, 5eb87d03ffd86e00060...   C106     active   \n6                          [5eb87ce8ffd86e000604b33c]   C107    unknown   \n7   [5eb87cecffd86e000604b33f, 5eb87d0effd86e00060...   C108     active   \n8                          [5eb87ceeffd86e000604b341]   C109  destroyed   \n9   [5eb87cf3ffd86e000604b345, 5eb87d16ffd86e00060...   C110     active   \n10  [5eb87cf9ffd86e000604b349, 5eb87d1cffd86e00060...   C111     active   \n11  [5eb87cfeffd86e000604b34d, 5eb87d26ffd86e00060...   C112     active   \n12  [5eb87d07ffd86e000604b356, 5eb87d2effd86e00060...   C113     active   \n13                         [5eb87d2bffd86e000604b375]   C201    retired   \n14                         [5eb87d3dffd86e000604b381]   C205     active   \n15                                                 []   C202    retired   \n16                                                 []   C203     active   \n17                                                 []   C204  destroyed   \n18  [5eb87d46ffd86e000604b388, 5fe3af58b3467846b32...   C206     active   \n19  [5eb87d4dffd86e000604b38e, 607a37565a906a44023...   C207     active   \n20                         [5eb87d4effd86e000604b391]   C208     active   \n21  [5fe3af84b3467846b3242161, 6161d2006db1a92bfba...   C209     active   \n22  [5fe3b15eb3467846b324216d, 62dd70d520230625502...   C210     active   \n23                                                 []   C211     active   \n24                         [6243ade2af52800c6e919255]   C212     active   \n\n          type                        id  \n0   Dragon 1.0  5e9e2c5bf35918ed873b2664  \n1   Dragon 1.0  5e9e2c5bf3591882af3b2665  \n2   Dragon 1.0  5e9e2c5bf3591835983b2666  \n3   Dragon 1.0  5e9e2c5bf359189ef23b2667  \n4   Dragon 1.1  5e9e2c5bf3591859a63b2668  \n5   Dragon 1.1  5e9e2c5bf3591880643b2669  \n6   Dragon 1.1  5e9e2c5bf35918165f3b266a  \n7   Dragon 1.1  5e9e2c5cf359188bfb3b266b  \n8   Dragon 1.1  5e9e2c5cf35918407d3b266c  \n9   Dragon 1.1  5e9e2c5cf3591885d43b266d  \n10  Dragon 1.1  5e9e2c5cf359183bb73b266e  \n11  Dragon 1.1  5e9e2c5cf359185d753b266f  \n12  Dragon 1.1  5e9e2c5cf3591869b63b2670  \n13  Dragon 2.0  5e9e2c5df35918b1063b2671  \n14  Dragon 2.0  5e9e2c5df359184c9a3b2672  \n15  Dragon 2.0  5e9e2c5df3591849f93b2673  \n16  Dragon 2.0  5e9e2c5df359184b793b2674  \n17  Dragon 2.0  5e9e2c5df359185f973b2675  \n18  Dragon 2.0  5e9e2c5df359188aba3b2676  \n19  Dragon 2.0  5f6f99fddcfdf403df379709  \n20  Dragon 2.0  5fbb0f8fec55b34eb9f35c14  \n21  Dragon 2.0  60b803421f83cc1e59f1644d  \n22  Dragon 2.0  617c05591bad2c661a6e2909  \n23  Dragon 2.0  62615d120ec008379be596f0  \n24  Dragon 2.0  62615d180ec008379be596f1  \n",
                    "name": "stdout"
                }
            ]
        },
        {
            "metadata": {},
            "cell_type": "raw",
            "source": ""
        },
        {
            "metadata": {},
            "cell_type": "code",
            "source": "# ",
            "execution_count": null,
            "outputs": []
        }
    ],
    "metadata": {
        "kernelspec": {
            "name": "python3",
            "display_name": "Python 3.10",
            "language": "python"
        },
        "language_info": {
            "name": "python",
            "version": "3.10.9",
            "mimetype": "text/x-python",
            "codemirror_mode": {
                "name": "ipython",
                "version": 3
            },
            "pygments_lexer": "ipython3",
            "nbconvert_exporter": "python",
            "file_extension": ".py"
        }
    },
    "nbformat": 4,
    "nbformat_minor": 1
}