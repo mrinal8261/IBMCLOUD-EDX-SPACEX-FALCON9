{
    "cells": [
        {
            "cell_type": "code",
            "execution_count": 1,
            "metadata": {},
            "outputs": [
                {
                    "name": "stdout",
                    "output_type": "stream",
                    "text": "Successfully Connected:\n              name                                          full_name  \\\n0      VAFB SLC 3W  Vandenberg Space Force Base Space Launch Compl...   \n1     CCSFS SLC 40  Cape Canaveral Space Force Station Space Launc...   \n2             STLS                     SpaceX South Texas Launch Site   \n3  Kwajalein Atoll                      Kwajalein Atoll Omelek Island   \n4      VAFB SLC 4E  Vandenberg Space Force Base Space Launch Compl...   \n5       KSC LC 39A   Kennedy Space Center Historic Launch Complex 39A   \n\n                      locality            region   latitude   longitude  \\\n0  Vandenberg Space Force Base        California  34.644090 -120.593144   \n1               Cape Canaveral           Florida  28.561857  -80.577366   \n2           Boca Chica Village             Texas  25.997264  -97.156085   \n3                Omelek Island  Marshall Islands   9.047721  167.743129   \n4  Vandenberg Space Force Base        California  34.632093 -120.610829   \n5               Cape Canaveral           Florida  28.608058  -80.603956   \n\n   launch_attempts  launch_successes  \\\n0                0                 0   \n1               99                97   \n2                0                 0   \n3                5                 2   \n4               28                27   \n5               55                55   \n\n                                             rockets             timezone  \\\n0                         [5e9d0d95eda69955f709d1eb]  America/Los_Angeles   \n1                         [5e9d0d95eda69973a809d1ec]     America/New_York   \n2                                                 []      America/Chicago   \n3                         [5e9d0d95eda69955f709d1eb]    Pacific/Kwajalein   \n4                         [5e9d0d95eda69973a809d1ec]  America/Los_Angeles   \n5  [5e9d0d95eda69973a809d1ec, 5e9d0d95eda69974db0...     America/New_York   \n\n                                            launches              status  \\\n0                                                 []             retired   \n1  [5eb87cddffd86e000604b32f, 5eb87cdeffd86e00060...              active   \n2                                                 []  under construction   \n3  [5eb87cd9ffd86e000604b32a, 5eb87cdaffd86e00060...             retired   \n4  [5eb87ce1ffd86e000604b334, 5eb87cf0ffd86e00060...              active   \n5  [5eb87cfeffd86e000604b34d, 5eb87cfeffd86e00060...              active   \n\n                                             details  \\\n0  SpaceX's original west coast launch pad for Fa...   \n1  SpaceX's primary Falcon 9 pad, where all east ...   \n2  SpaceX's new private launch site currently und...   \n3  SpaceX's original pad, where all of the Falcon...   \n4  SpaceX's primary west coast launch pad for pol...   \n5  NASA's historic pad that launched most of the ...   \n\n                         id                       images.large  \n0  5e9e4501f5090910d4566f83  [https://i.imgur.com/7uXe1Kv.png]  \n1  5e9e4501f509094ba4566f84  [https://i.imgur.com/9oEMXwa.png]  \n2  5e9e4502f5090927f8566f85  [https://i.imgur.com/ZzTTC5p.png]  \n3  5e9e4502f5090995de566f86  [https://i.imgur.com/GGPgsVs.png]  \n4  5e9e4502f509092b78566f87  [https://i.imgur.com/asp5L08.png]  \n5  5e9e4502f509094188566f88  [https://i.imgur.com/1jwU0Pk.png]  \n"
                }
            ],
            "source": "# All IMPORTS\nimport requests as req\nimport json as js\nimport pandas as pd\n\n#CONNECTION URL AND HEADERS FOR REST API CALL\napi_url = \"https://api.spacexdata.com/v4/launchpads\"\nheaders =  {\"Content-Type\":\"application/json\"}\n\n\n# MAKE A RESTAPI CALL -- HTTP REQUEST -- GET METHOD\n# TRY EXCEPT BLOCK TO CATCH ANY EXCEPTIONS\ntry:\n    responseData = req.get(api_url,headers)    \n    responseCode = responseData.status_code\nexcept req.exceptions.ConnectionError as err:\n    print(\"Either DNS failure or refused Connection or Error Connecting\",err)\nexcept req.exceptions.HttpError as err:\n    print(err,\" : Http Error\")\n# TIMEOUT NEEDS TO EITHER REPEAT OR MAKE RETRY IN A LOOP\nexcept req.exceptions.Timeout as err:\n    print(\"Timeout in Connection\",err)    \n    while(responseData != 200):\n        responseData = req.get(api_url,headers)    \n        responseCode = responseData.status_code    \nexcept req.exceptions.TooManyRedirects as err:\n    print(\"Try Another Url: \",err)\nexcept req.exceptions.RequestExceptions as err:\n    raise SystemExit(err)\nexcept req.exceptions.RequestException as err:\n    print(\"Error: \",err)\n\n#ALLOWING FOR RESPONSE CODE 200 OR SUCCESS\nif responseCode == 200 :\n    print(\"Successfully Connected:\")\n    responseString = responseData.json()\n    #print(responseString)\n    data = pd.json_normalize(responseString)\n    print(data)\nelif responseCode == 400 :\n    print(\"Bad Request\")\nelse :\n    print(\"Error in Connection\")"
        },
        {
            "cell_type": "code",
            "execution_count": null,
            "metadata": {},
            "outputs": [],
            "source": ""
        },
        {
            "cell_type": "code",
            "execution_count": null,
            "metadata": {},
            "outputs": [],
            "source": "# "
        }
    ],
    "metadata": {
        "kernelspec": {
            "display_name": "Python 3.10",
            "language": "python",
            "name": "python3"
        },
        "language_info": {
            "codemirror_mode": {
                "name": "ipython",
                "version": 3
            },
            "file_extension": ".py",
            "mimetype": "text/x-python",
            "name": "python",
            "nbconvert_exporter": "python",
            "pygments_lexer": "ipython3",
            "version": "3.10.9"
        }
    },
    "nbformat": 4,
    "nbformat_minor": 1
}