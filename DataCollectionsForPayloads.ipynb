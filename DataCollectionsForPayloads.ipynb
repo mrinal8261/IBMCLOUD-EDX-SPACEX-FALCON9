{
    "cells": [
        {
            "metadata": {},
            "cell_type": "code",
            "source": "# All IMPORTS\nimport requests as req\nimport json as js\nimport pandas as pd\n\n#CONNECTION URL AND HEADERS FOR REST API CALL\napi_url = \"https://api.spacexdata.com/v4/payloads\"\nheaders =  {\"Content-Type\":\"application/json\"}\n\n\n# MAKE A RESTAPI CALL -- HTTP REQUEST -- GET METHOD\n# TRY EXCEPT BLOCK TO CATCH ANY EXCEPTIONS\ntry:\n    responseData = req.get(api_url,headers)    \n    responseCode = responseData.status_code\nexcept req.exceptions.ConnectionError as err:\n    print(\"Either DNS failure or refused Connection or Error Connecting\",err)\nexcept req.exceptions.HttpError as err:\n    print(err,\" : Http Error\")\n# TIMEOUT NEEDS TO EITHER REPEAT OR MAKE RETRY IN A LOOP\nexcept req.exceptions.Timeout as err:\n    print(\"Timeout in Connection\",err)    \n    while(responseData != 200):\n        responseData = req.get(api_url,headers)    \n        responseCode = responseData.status_code    \nexcept req.exceptions.TooManyRedirects as err:\n    print(\"Try Another Url: \",err)\nexcept req.exceptions.RequestExceptions as err:\n    raise SystemExit(err)\nexcept req.exceptions.RequestException as err:\n    print(\"Error: \",err)\n\n#ALLOWING FOR RESPONSE CODE 200 OR SUCCESS\nif responseCode == 200 :\n    print(\"Successfully Connected:\")\n    responseString = responseData.json()\n    #print(responseString)\n    data = pd.json_normalize(responseString)\n    print(data)\nelif responseCode == 400 :\n    print(\"Bad Request\")\nelse :\n    print(\"Error in Connection\")",
            "execution_count": 1,
            "outputs": [
                {
                    "output_type": "stream",
                    "text": "Successfully Connected:\n                     name       type  reused                    launch  \\\n0             FalconSAT-2  Satellite   False  5eb87cd9ffd86e000604b32a   \n1                 DemoSAT  Satellite   False  5eb87cdaffd86e000604b32b   \n2             Trailblazer  Satellite   False  5eb87cdbffd86e000604b32c   \n3                  PRESat  Satellite   False  5eb87cdbffd86e000604b32c   \n4                  RatSat  Satellite   False  5eb87cdbffd86e000604b32d   \n..                    ...        ...     ...                       ...   \n220  Starlink 4-35 (v1.5)  Satellite   False  63161339ffc78f3b8567070c   \n221  Starlink 4-36 (v1.5)  Satellite   False  62f3b5200f55c50e192a4e6c   \n222                 TTL-1  Satellite   False  62f3b5200f55c50e192a4e6c   \n223            Varuna-TDM  Satellite   False  62f3b5330f55c50e192a4e6e   \n224          BlueWalker 3  Satellite   False  62a9f89a20413d2695d8871a   \n\n                      customers norad_ids    nationalities  \\\n0                       [DARPA]        []  [United States]   \n1                       [DARPA]        []  [United States]   \n2                        [NASA]        []  [United States]   \n3                         [ORS]        []  [United States]   \n4                      [SpaceX]   [33393]  [United States]   \n..                          ...       ...              ...   \n220                    [SpaceX]        []  [United States]   \n221                    [SpaceX]        []  [United States]   \n222  [Space Development Agency]        []  [United States]   \n223                    [Boeing]        []  [United States]   \n224             [AST & Science]        []  [United States]   \n\n                        manufacturers  mass_kg  mass_lbs  ...  \\\n0                              [SSTL]     20.0      43.0  ...   \n1                            [SpaceX]      NaN       NaN  ...   \n2                         [Space Dev]      NaN       NaN  ...   \n3                                  []      NaN       NaN  ...   \n4                            [SpaceX]    165.0     363.0  ...   \n..                                ...      ...       ...  ...   \n220                          [SpaceX]  13260.0   29233.0  ...   \n221                          [SpaceX]  13260.0   29233.0  ...   \n222                          [SpaceX]      NaN       NaN  ...   \n223  [Spaceflight Inc, Digital Astro]    180.0     396.0  ...   \n224                   [AST & Science]   1500.0    3306.0  ...   \n\n    arg_of_pericenter mean_anomaly                        id  dragon.capsule  \\\n0                 NaN          NaN  5eb0e4b5b6c3bb0006eeb1e1            None   \n1                 NaN          NaN  5eb0e4b6b6c3bb0006eeb1e2            None   \n2                 NaN          NaN  5eb0e4b6b6c3bb0006eeb1e3            None   \n3                 NaN          NaN  5eb0e4b6b6c3bb0006eeb1e4            None   \n4            331.2516      28.6966  5eb0e4b7b6c3bb0006eeb1e5            None   \n..                ...          ...                       ...             ...   \n220               NaN          NaN  631616a7ffc78f3b8567071a            None   \n221               NaN          NaN  631616aeffc78f3b8567071b            None   \n222               NaN          NaN  63161760ffc78f3b8567071c            None   \n223               NaN          NaN  631617fbffc78f3b8567071d            None   \n224               NaN          NaN  63161872ffc78f3b8567071e            None   \n\n     dragon.mass_returned_kg  dragon.mass_returned_lbs  \\\n0                        NaN                       NaN   \n1                        NaN                       NaN   \n2                        NaN                       NaN   \n3                        NaN                       NaN   \n4                        NaN                       NaN   \n..                       ...                       ...   \n220                      NaN                       NaN   \n221                      NaN                       NaN   \n222                      NaN                       NaN   \n223                      NaN                       NaN   \n224                      NaN                       NaN   \n\n     dragon.flight_time_sec  dragon.manifest  dragon.water_landing  \\\n0                       NaN             None                  None   \n1                       NaN             None                  None   \n2                       NaN             None                  None   \n3                       NaN             None                  None   \n4                       NaN             None                  None   \n..                      ...              ...                   ...   \n220                     NaN             None                  None   \n221                     NaN             None                  None   \n222                     NaN             None                  None   \n223                     NaN             None                  None   \n224                     NaN             None                  None   \n\n     dragon.land_landing  \n0                   None  \n1                   None  \n2                   None  \n3                   None  \n4                   None  \n..                   ...  \n220                 None  \n221                 None  \n222                 None  \n223                 None  \n224                 None  \n\n[225 rows x 34 columns]\n",
                    "name": "stdout"
                }
            ]
        },
        {
            "metadata": {},
            "cell_type": "code",
            "source": "",
            "execution_count": null,
            "outputs": []
        },
        {
            "metadata": {},
            "cell_type": "code",
            "source": "# ",
            "execution_count": null,
            "outputs": []
        }
    ],
    "metadata": {
        "kernelspec": {
            "name": "python3",
            "display_name": "Python 3.10",
            "language": "python"
        },
        "language_info": {
            "name": "python",
            "version": "3.10.9",
            "mimetype": "text/x-python",
            "codemirror_mode": {
                "name": "ipython",
                "version": 3
            },
            "pygments_lexer": "ipython3",
            "nbconvert_exporter": "python",
            "file_extension": ".py"
        }
    },
    "nbformat": 4,
    "nbformat_minor": 1
}